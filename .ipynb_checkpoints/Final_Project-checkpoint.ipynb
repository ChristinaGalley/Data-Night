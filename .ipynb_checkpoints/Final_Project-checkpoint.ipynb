{
 "cells": [
  {
   "cell_type": "code",
   "execution_count": 4,
   "id": "eb08ab4c",
   "metadata": {},
   "outputs": [],
   "source": [
    "import json\n",
    "import pandas as pd"
   ]
  },
  {
   "cell_type": "code",
   "execution_count": 36,
   "id": "12e9e4a1",
   "metadata": {},
   "outputs": [
    {
     "name": "stdout",
     "output_type": "stream",
     "text": [
      "{'business_status': 'OPERATIONAL', 'geometry': {'location': {'lat': 44.0225036, 'lng': -92.4637066}, 'viewport': {'northeast': {'lat': 44.02392197989271, 'lng': -92.46241624999998}, 'southwest': {'lat': 44.02122232010727, 'lng': -92.46520124999999}}}, 'icon': 'https://maps.gstatic.com/mapfiles/place_api/icons/v1/png_71/restaurant-71.png', 'icon_background_color': '#FF9E67', 'icon_mask_base_uri': 'https://maps.gstatic.com/mapfiles/place_api/icons/v2/restaurant_pinlet', 'name': \"Chester's Kitchen & Bar\", 'opening_hours': {'open_now': True}, 'photos': [{'height': 3024, 'html_attributions': ['<a href=\"https://maps.google.com/maps/contrib/102589600606094975192\">Marzouq Alghanim</a>'], 'photo_reference': 'Aap_uEB3TVEvhkrXl-4bmsu9Wc3c009cWdAU-lT8AqGgsCKvkA5SZqXogpWzjrTigEXL5ox_4qnY0wCT-B0px_qSNYzeufI-A0X-_ZPh_UgR4_qAstwQSdzsJZbo3Ki8yZnD409ESrPOngebCnwK4iXOjzqkxKZ2O89X7fAtGgtQYzuLN-8V', 'width': 4032}], 'place_id': 'ChIJi-0g1nxf94cRCY5hpn6YerA', 'plus_code': {'compound_code': '2GFP+2G Rochester, Minnesota', 'global_code': '86P92GFP+2G'}, 'price_level': 2, 'rating': 4.5, 'reference': 'ChIJi-0g1nxf94cRCY5hpn6YerA', 'scope': 'GOOGLE', 'types': ['bar', 'restaurant', 'food', 'point_of_interest', 'establishment'], 'user_ratings_total': 1328, 'vicinity': 'Shops At University Square, 111 Broadway Ave S #108, Rochester'}\n"
     ]
    }
   ],
   "source": [
    "# File to load\n",
    "food_data_raw = \"Resources/Google Places API Burgers.json\"\n",
    "\n",
    "# Read the data into a dataframe\n",
    "with open(food_data_raw, mode='r') as data:\n",
    "    f = json.load(data)\n",
    "    #print(json.dumps(f,indent=2))\n",
    "    print(f['results'][0])\n",
    "    #food_data_df = pd.read_json(f['results'], orient='records')"
   ]
  },
  {
   "cell_type": "code",
   "execution_count": null,
   "id": "08904401",
   "metadata": {},
   "outputs": [],
   "source": []
  }
 ],
 "metadata": {
  "kernelspec": {
   "display_name": "PythonData",
   "language": "python",
   "name": "pythondata"
  },
  "language_info": {
   "codemirror_mode": {
    "name": "ipython",
    "version": 3
   },
   "file_extension": ".py",
   "mimetype": "text/x-python",
   "name": "python",
   "nbconvert_exporter": "python",
   "pygments_lexer": "ipython3",
   "version": "3.7.10"
  }
 },
 "nbformat": 4,
 "nbformat_minor": 5
}
